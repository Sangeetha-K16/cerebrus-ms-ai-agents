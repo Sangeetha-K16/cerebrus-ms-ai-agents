{
 "cells": [
  {
   "cell_type": "code",
   "execution_count": 3,
   "id": "9808fa0a-2310-492c-bca9-46c78a7df6c6",
   "metadata": {},
   "outputs": [
    {
     "name": "stdout",
     "output_type": "stream",
     "text": [
      "Requirement already satisfied: crewai in c:\\users\\sanna\\miniconda3\\envs\\jupyter_env\\lib\\site-packages (0.5.0)\n",
      "Requirement already satisfied: langchain==0.1.0 in c:\\users\\sanna\\miniconda3\\envs\\jupyter_env\\lib\\site-packages (from crewai) (0.1.0)\n",
      "Requirement already satisfied: langchain-openai<0.0.3,>=0.0.2 in c:\\users\\sanna\\miniconda3\\envs\\jupyter_env\\lib\\site-packages (from crewai) (0.0.2.post1)\n",
      "Requirement already satisfied: openai<2.0.0,>=1.7.1 in c:\\users\\sanna\\miniconda3\\envs\\jupyter_env\\lib\\site-packages (from crewai) (1.101.0)\n",
      "Requirement already satisfied: pydantic<3.0.0,>=2.4.2 in c:\\users\\sanna\\miniconda3\\envs\\jupyter_env\\lib\\site-packages (from crewai) (2.11.7)\n",
      "Requirement already satisfied: PyYAML>=5.3 in c:\\users\\sanna\\miniconda3\\envs\\jupyter_env\\lib\\site-packages (from langchain==0.1.0->crewai) (6.0.2)\n",
      "Requirement already satisfied: SQLAlchemy<3,>=1.4 in c:\\users\\sanna\\miniconda3\\envs\\jupyter_env\\lib\\site-packages (from langchain==0.1.0->crewai) (2.0.43)\n",
      "Requirement already satisfied: aiohttp<4.0.0,>=3.8.3 in c:\\users\\sanna\\miniconda3\\envs\\jupyter_env\\lib\\site-packages (from langchain==0.1.0->crewai) (3.12.15)\n",
      "Requirement already satisfied: async-timeout<5.0.0,>=4.0.0 in c:\\users\\sanna\\miniconda3\\envs\\jupyter_env\\lib\\site-packages (from langchain==0.1.0->crewai) (4.0.3)\n",
      "Requirement already satisfied: dataclasses-json<0.7,>=0.5.7 in c:\\users\\sanna\\miniconda3\\envs\\jupyter_env\\lib\\site-packages (from langchain==0.1.0->crewai) (0.6.7)\n",
      "Requirement already satisfied: jsonpatch<2.0,>=1.33 in c:\\users\\sanna\\miniconda3\\envs\\jupyter_env\\lib\\site-packages (from langchain==0.1.0->crewai) (1.33)\n",
      "Requirement already satisfied: langchain-community<0.1,>=0.0.9 in c:\\users\\sanna\\miniconda3\\envs\\jupyter_env\\lib\\site-packages (from langchain==0.1.0->crewai) (0.0.20)\n",
      "Requirement already satisfied: langchain-core<0.2,>=0.1.7 in c:\\users\\sanna\\miniconda3\\envs\\jupyter_env\\lib\\site-packages (from langchain==0.1.0->crewai) (0.1.23)\n",
      "Requirement already satisfied: langsmith<0.1.0,>=0.0.77 in c:\\users\\sanna\\miniconda3\\envs\\jupyter_env\\lib\\site-packages (from langchain==0.1.0->crewai) (0.0.87)\n",
      "Requirement already satisfied: numpy<2,>=1 in c:\\users\\sanna\\miniconda3\\envs\\jupyter_env\\lib\\site-packages (from langchain==0.1.0->crewai) (1.26.4)\n",
      "Requirement already satisfied: requests<3,>=2 in c:\\users\\sanna\\miniconda3\\envs\\jupyter_env\\lib\\site-packages (from langchain==0.1.0->crewai) (2.32.3)\n",
      "Requirement already satisfied: tenacity<9.0.0,>=8.1.0 in c:\\users\\sanna\\miniconda3\\envs\\jupyter_env\\lib\\site-packages (from langchain==0.1.0->crewai) (8.5.0)\n",
      "Requirement already satisfied: tiktoken<0.6.0,>=0.5.2 in c:\\users\\sanna\\miniconda3\\envs\\jupyter_env\\lib\\site-packages (from langchain-openai<0.0.3,>=0.0.2->crewai) (0.5.2)\n",
      "Requirement already satisfied: anyio<5,>=3.5.0 in c:\\users\\sanna\\miniconda3\\envs\\jupyter_env\\lib\\site-packages (from openai<2.0.0,>=1.7.1->crewai) (4.6.2)\n",
      "Requirement already satisfied: distro<2,>=1.7.0 in c:\\users\\sanna\\miniconda3\\envs\\jupyter_env\\lib\\site-packages (from openai<2.0.0,>=1.7.1->crewai) (1.9.0)\n",
      "Requirement already satisfied: httpx<1,>=0.23.0 in c:\\users\\sanna\\miniconda3\\envs\\jupyter_env\\lib\\site-packages (from openai<2.0.0,>=1.7.1->crewai) (0.27.0)\n",
      "Requirement already satisfied: jiter<1,>=0.4.0 in c:\\users\\sanna\\miniconda3\\envs\\jupyter_env\\lib\\site-packages (from openai<2.0.0,>=1.7.1->crewai) (0.10.0)\n",
      "Requirement already satisfied: sniffio in c:\\users\\sanna\\miniconda3\\envs\\jupyter_env\\lib\\site-packages (from openai<2.0.0,>=1.7.1->crewai) (1.3.0)\n",
      "Requirement already satisfied: tqdm>4 in c:\\users\\sanna\\miniconda3\\envs\\jupyter_env\\lib\\site-packages (from openai<2.0.0,>=1.7.1->crewai) (4.67.1)\n",
      "Requirement already satisfied: typing-extensions<5,>=4.11 in c:\\users\\sanna\\miniconda3\\envs\\jupyter_env\\lib\\site-packages (from openai<2.0.0,>=1.7.1->crewai) (4.12.2)\n",
      "Requirement already satisfied: annotated-types>=0.6.0 in c:\\users\\sanna\\miniconda3\\envs\\jupyter_env\\lib\\site-packages (from pydantic<3.0.0,>=2.4.2->crewai) (0.7.0)\n",
      "Requirement already satisfied: pydantic-core==2.33.2 in c:\\users\\sanna\\miniconda3\\envs\\jupyter_env\\lib\\site-packages (from pydantic<3.0.0,>=2.4.2->crewai) (2.33.2)\n",
      "Requirement already satisfied: typing-inspection>=0.4.0 in c:\\users\\sanna\\miniconda3\\envs\\jupyter_env\\lib\\site-packages (from pydantic<3.0.0,>=2.4.2->crewai) (0.4.1)\n",
      "Requirement already satisfied: aiohappyeyeballs>=2.5.0 in c:\\users\\sanna\\miniconda3\\envs\\jupyter_env\\lib\\site-packages (from aiohttp<4.0.0,>=3.8.3->langchain==0.1.0->crewai) (2.6.1)\n",
      "Requirement already satisfied: aiosignal>=1.4.0 in c:\\users\\sanna\\miniconda3\\envs\\jupyter_env\\lib\\site-packages (from aiohttp<4.0.0,>=3.8.3->langchain==0.1.0->crewai) (1.4.0)\n",
      "Requirement already satisfied: attrs>=17.3.0 in c:\\users\\sanna\\miniconda3\\envs\\jupyter_env\\lib\\site-packages (from aiohttp<4.0.0,>=3.8.3->langchain==0.1.0->crewai) (24.3.0)\n",
      "Requirement already satisfied: frozenlist>=1.1.1 in c:\\users\\sanna\\miniconda3\\envs\\jupyter_env\\lib\\site-packages (from aiohttp<4.0.0,>=3.8.3->langchain==0.1.0->crewai) (1.7.0)\n",
      "Requirement already satisfied: multidict<7.0,>=4.5 in c:\\users\\sanna\\miniconda3\\envs\\jupyter_env\\lib\\site-packages (from aiohttp<4.0.0,>=3.8.3->langchain==0.1.0->crewai) (6.6.4)\n",
      "Requirement already satisfied: propcache>=0.2.0 in c:\\users\\sanna\\miniconda3\\envs\\jupyter_env\\lib\\site-packages (from aiohttp<4.0.0,>=3.8.3->langchain==0.1.0->crewai) (0.3.2)\n",
      "Requirement already satisfied: yarl<2.0,>=1.17.0 in c:\\users\\sanna\\miniconda3\\envs\\jupyter_env\\lib\\site-packages (from aiohttp<4.0.0,>=3.8.3->langchain==0.1.0->crewai) (1.20.1)\n",
      "Requirement already satisfied: idna>=2.8 in c:\\users\\sanna\\miniconda3\\envs\\jupyter_env\\lib\\site-packages (from anyio<5,>=3.5.0->openai<2.0.0,>=1.7.1->crewai) (3.7)\n",
      "Requirement already satisfied: exceptiongroup>=1.0.2 in c:\\users\\sanna\\miniconda3\\envs\\jupyter_env\\lib\\site-packages (from anyio<5,>=3.5.0->openai<2.0.0,>=1.7.1->crewai) (1.2.0)\n",
      "Requirement already satisfied: marshmallow<4.0.0,>=3.18.0 in c:\\users\\sanna\\miniconda3\\envs\\jupyter_env\\lib\\site-packages (from dataclasses-json<0.7,>=0.5.7->langchain==0.1.0->crewai) (3.26.1)\n",
      "Requirement already satisfied: typing-inspect<1,>=0.4.0 in c:\\users\\sanna\\miniconda3\\envs\\jupyter_env\\lib\\site-packages (from dataclasses-json<0.7,>=0.5.7->langchain==0.1.0->crewai) (0.9.0)\n",
      "Requirement already satisfied: certifi in c:\\users\\sanna\\miniconda3\\envs\\jupyter_env\\lib\\site-packages (from httpx<1,>=0.23.0->openai<2.0.0,>=1.7.1->crewai) (2025.1.31)\n",
      "Requirement already satisfied: httpcore==1.* in c:\\users\\sanna\\miniconda3\\envs\\jupyter_env\\lib\\site-packages (from httpx<1,>=0.23.0->openai<2.0.0,>=1.7.1->crewai) (1.0.2)\n",
      "Requirement already satisfied: h11<0.15,>=0.13 in c:\\users\\sanna\\miniconda3\\envs\\jupyter_env\\lib\\site-packages (from httpcore==1.*->httpx<1,>=0.23.0->openai<2.0.0,>=1.7.1->crewai) (0.14.0)\n",
      "Requirement already satisfied: jsonpointer>=1.9 in c:\\users\\sanna\\miniconda3\\envs\\jupyter_env\\lib\\site-packages (from jsonpatch<2.0,>=1.33->langchain==0.1.0->crewai) (3.0.0)\n",
      "Requirement already satisfied: packaging<24.0,>=23.2 in c:\\users\\sanna\\miniconda3\\envs\\jupyter_env\\lib\\site-packages (from langchain-core<0.2,>=0.1.7->langchain==0.1.0->crewai) (23.2)\n",
      "Requirement already satisfied: charset-normalizer<4,>=2 in c:\\users\\sanna\\miniconda3\\envs\\jupyter_env\\lib\\site-packages (from requests<3,>=2->langchain==0.1.0->crewai) (3.3.2)\n",
      "Requirement already satisfied: urllib3<3,>=1.21.1 in c:\\users\\sanna\\miniconda3\\envs\\jupyter_env\\lib\\site-packages (from requests<3,>=2->langchain==0.1.0->crewai) (2.3.0)\n",
      "Requirement already satisfied: greenlet>=1 in c:\\users\\sanna\\miniconda3\\envs\\jupyter_env\\lib\\site-packages (from SQLAlchemy<3,>=1.4->langchain==0.1.0->crewai) (3.2.4)\n",
      "Requirement already satisfied: regex>=2022.1.18 in c:\\users\\sanna\\miniconda3\\envs\\jupyter_env\\lib\\site-packages (from tiktoken<0.6.0,>=0.5.2->langchain-openai<0.0.3,>=0.0.2->crewai) (2025.7.34)\n",
      "Requirement already satisfied: colorama in c:\\users\\sanna\\miniconda3\\envs\\jupyter_env\\lib\\site-packages (from tqdm>4->openai<2.0.0,>=1.7.1->crewai) (0.4.6)\n",
      "Requirement already satisfied: mypy-extensions>=0.3.0 in c:\\users\\sanna\\miniconda3\\envs\\jupyter_env\\lib\\site-packages (from typing-inspect<1,>=0.4.0->dataclasses-json<0.7,>=0.5.7->langchain==0.1.0->crewai) (1.1.0)\n"
     ]
    }
   ],
   "source": [
    "!pip install crewai"
   ]
  },
  {
   "cell_type": "code",
   "execution_count": 4,
   "id": "885afc91-49e8-4816-bd6a-6ac9ff6acc31",
   "metadata": {},
   "outputs": [
    {
     "name": "stdout",
     "output_type": "stream",
     "text": [
      "Requirement already satisfied: openai in c:\\users\\sanna\\miniconda3\\envs\\jupyter_env\\lib\\site-packages (1.101.0)\n",
      "Requirement already satisfied: anyio<5,>=3.5.0 in c:\\users\\sanna\\miniconda3\\envs\\jupyter_env\\lib\\site-packages (from openai) (4.6.2)\n",
      "Requirement already satisfied: distro<2,>=1.7.0 in c:\\users\\sanna\\miniconda3\\envs\\jupyter_env\\lib\\site-packages (from openai) (1.9.0)\n",
      "Requirement already satisfied: httpx<1,>=0.23.0 in c:\\users\\sanna\\miniconda3\\envs\\jupyter_env\\lib\\site-packages (from openai) (0.27.0)\n",
      "Requirement already satisfied: jiter<1,>=0.4.0 in c:\\users\\sanna\\miniconda3\\envs\\jupyter_env\\lib\\site-packages (from openai) (0.10.0)\n",
      "Requirement already satisfied: pydantic<3,>=1.9.0 in c:\\users\\sanna\\miniconda3\\envs\\jupyter_env\\lib\\site-packages (from openai) (2.11.7)\n",
      "Requirement already satisfied: sniffio in c:\\users\\sanna\\miniconda3\\envs\\jupyter_env\\lib\\site-packages (from openai) (1.3.0)\n",
      "Requirement already satisfied: tqdm>4 in c:\\users\\sanna\\miniconda3\\envs\\jupyter_env\\lib\\site-packages (from openai) (4.67.1)\n",
      "Requirement already satisfied: typing-extensions<5,>=4.11 in c:\\users\\sanna\\miniconda3\\envs\\jupyter_env\\lib\\site-packages (from openai) (4.12.2)\n",
      "Requirement already satisfied: idna>=2.8 in c:\\users\\sanna\\miniconda3\\envs\\jupyter_env\\lib\\site-packages (from anyio<5,>=3.5.0->openai) (3.7)\n",
      "Requirement already satisfied: exceptiongroup>=1.0.2 in c:\\users\\sanna\\miniconda3\\envs\\jupyter_env\\lib\\site-packages (from anyio<5,>=3.5.0->openai) (1.2.0)\n",
      "Requirement already satisfied: certifi in c:\\users\\sanna\\miniconda3\\envs\\jupyter_env\\lib\\site-packages (from httpx<1,>=0.23.0->openai) (2025.1.31)\n",
      "Requirement already satisfied: httpcore==1.* in c:\\users\\sanna\\miniconda3\\envs\\jupyter_env\\lib\\site-packages (from httpx<1,>=0.23.0->openai) (1.0.2)\n",
      "Requirement already satisfied: h11<0.15,>=0.13 in c:\\users\\sanna\\miniconda3\\envs\\jupyter_env\\lib\\site-packages (from httpcore==1.*->httpx<1,>=0.23.0->openai) (0.14.0)\n",
      "Requirement already satisfied: annotated-types>=0.6.0 in c:\\users\\sanna\\miniconda3\\envs\\jupyter_env\\lib\\site-packages (from pydantic<3,>=1.9.0->openai) (0.7.0)\n",
      "Requirement already satisfied: pydantic-core==2.33.2 in c:\\users\\sanna\\miniconda3\\envs\\jupyter_env\\lib\\site-packages (from pydantic<3,>=1.9.0->openai) (2.33.2)\n",
      "Requirement already satisfied: typing-inspection>=0.4.0 in c:\\users\\sanna\\miniconda3\\envs\\jupyter_env\\lib\\site-packages (from pydantic<3,>=1.9.0->openai) (0.4.1)\n",
      "Requirement already satisfied: colorama in c:\\users\\sanna\\miniconda3\\envs\\jupyter_env\\lib\\site-packages (from tqdm>4->openai) (0.4.6)\n"
     ]
    }
   ],
   "source": [
    "!pip install openai"
   ]
  },
  {
   "cell_type": "code",
   "execution_count": 5,
   "id": "3658c66e-c0b9-482f-9124-2dfe280c8fac",
   "metadata": {},
   "outputs": [
    {
     "name": "stdout",
     "output_type": "stream",
     "text": [
      "Requirement already satisfied: crewai in c:\\users\\sanna\\miniconda3\\envs\\jupyter_env\\lib\\site-packages (0.5.0)\n",
      "Note: you may need to restart the kernel to use updated packages.\n"
     ]
    },
    {
     "name": "stderr",
     "output_type": "stream",
     "text": [
      "ERROR: Could not find a version that satisfies the requirement crewai-tools (from versions: none)\n",
      "ERROR: No matching distribution found for crewai-tools\n"
     ]
    }
   ],
   "source": [
    "pip install crewai crewai-tools langchain_openai langchain_community"
   ]
  },
  {
   "cell_type": "code",
   "execution_count": 6,
   "id": "d2383f65-4cd5-4d23-8a4f-40517b460af4",
   "metadata": {},
   "outputs": [
    {
     "name": "stdout",
     "output_type": "stream",
     "text": [
      "Requirement already satisfied: langchain_openai in c:\\users\\sanna\\miniconda3\\envs\\jupyter_env\\lib\\site-packages (0.0.2.post1)\n",
      "Requirement already satisfied: langchain_community in c:\\users\\sanna\\miniconda3\\envs\\jupyter_env\\lib\\site-packages (0.0.20)\n",
      "Requirement already satisfied: crewai[tools] in c:\\users\\sanna\\miniconda3\\envs\\jupyter_env\\lib\\site-packages (0.5.0)\n",
      "Requirement already satisfied: langchain==0.1.0 in c:\\users\\sanna\\miniconda3\\envs\\jupyter_env\\lib\\site-packages (from crewai[tools]) (0.1.0)\n",
      "Requirement already satisfied: openai<2.0.0,>=1.7.1 in c:\\users\\sanna\\miniconda3\\envs\\jupyter_env\\lib\\site-packages (from crewai[tools]) (1.101.0)\n",
      "Requirement already satisfied: pydantic<3.0.0,>=2.4.2 in c:\\users\\sanna\\miniconda3\\envs\\jupyter_env\\lib\\site-packages (from crewai[tools]) (2.11.7)\n",
      "Requirement already satisfied: PyYAML>=5.3 in c:\\users\\sanna\\miniconda3\\envs\\jupyter_env\\lib\\site-packages (from langchain==0.1.0->crewai[tools]) (6.0.2)\n",
      "Requirement already satisfied: SQLAlchemy<3,>=1.4 in c:\\users\\sanna\\miniconda3\\envs\\jupyter_env\\lib\\site-packages (from langchain==0.1.0->crewai[tools]) (2.0.43)\n",
      "Requirement already satisfied: aiohttp<4.0.0,>=3.8.3 in c:\\users\\sanna\\miniconda3\\envs\\jupyter_env\\lib\\site-packages (from langchain==0.1.0->crewai[tools]) (3.12.15)\n",
      "Requirement already satisfied: async-timeout<5.0.0,>=4.0.0 in c:\\users\\sanna\\miniconda3\\envs\\jupyter_env\\lib\\site-packages (from langchain==0.1.0->crewai[tools]) (4.0.3)\n",
      "Requirement already satisfied: dataclasses-json<0.7,>=0.5.7 in c:\\users\\sanna\\miniconda3\\envs\\jupyter_env\\lib\\site-packages (from langchain==0.1.0->crewai[tools]) (0.6.7)\n",
      "Requirement already satisfied: jsonpatch<2.0,>=1.33 in c:\\users\\sanna\\miniconda3\\envs\\jupyter_env\\lib\\site-packages (from langchain==0.1.0->crewai[tools]) (1.33)\n",
      "Requirement already satisfied: langchain-core<0.2,>=0.1.7 in c:\\users\\sanna\\miniconda3\\envs\\jupyter_env\\lib\\site-packages (from langchain==0.1.0->crewai[tools]) (0.1.23)\n",
      "Requirement already satisfied: langsmith<0.1.0,>=0.0.77 in c:\\users\\sanna\\miniconda3\\envs\\jupyter_env\\lib\\site-packages (from langchain==0.1.0->crewai[tools]) (0.0.87)\n",
      "Requirement already satisfied: numpy<2,>=1 in c:\\users\\sanna\\miniconda3\\envs\\jupyter_env\\lib\\site-packages (from langchain==0.1.0->crewai[tools]) (1.26.4)\n",
      "Requirement already satisfied: requests<3,>=2 in c:\\users\\sanna\\miniconda3\\envs\\jupyter_env\\lib\\site-packages (from langchain==0.1.0->crewai[tools]) (2.32.3)\n",
      "Requirement already satisfied: tenacity<9.0.0,>=8.1.0 in c:\\users\\sanna\\miniconda3\\envs\\jupyter_env\\lib\\site-packages (from langchain==0.1.0->crewai[tools]) (8.5.0)\n",
      "Requirement already satisfied: tiktoken<0.6.0,>=0.5.2 in c:\\users\\sanna\\miniconda3\\envs\\jupyter_env\\lib\\site-packages (from langchain_openai) (0.5.2)\n",
      "Requirement already satisfied: aiohappyeyeballs>=2.5.0 in c:\\users\\sanna\\miniconda3\\envs\\jupyter_env\\lib\\site-packages (from aiohttp<4.0.0,>=3.8.3->langchain==0.1.0->crewai[tools]) (2.6.1)\n",
      "Requirement already satisfied: aiosignal>=1.4.0 in c:\\users\\sanna\\miniconda3\\envs\\jupyter_env\\lib\\site-packages (from aiohttp<4.0.0,>=3.8.3->langchain==0.1.0->crewai[tools]) (1.4.0)\n",
      "Requirement already satisfied: attrs>=17.3.0 in c:\\users\\sanna\\miniconda3\\envs\\jupyter_env\\lib\\site-packages (from aiohttp<4.0.0,>=3.8.3->langchain==0.1.0->crewai[tools]) (24.3.0)\n",
      "Requirement already satisfied: frozenlist>=1.1.1 in c:\\users\\sanna\\miniconda3\\envs\\jupyter_env\\lib\\site-packages (from aiohttp<4.0.0,>=3.8.3->langchain==0.1.0->crewai[tools]) (1.7.0)\n",
      "Requirement already satisfied: multidict<7.0,>=4.5 in c:\\users\\sanna\\miniconda3\\envs\\jupyter_env\\lib\\site-packages (from aiohttp<4.0.0,>=3.8.3->langchain==0.1.0->crewai[tools]) (6.6.4)\n",
      "Requirement already satisfied: propcache>=0.2.0 in c:\\users\\sanna\\miniconda3\\envs\\jupyter_env\\lib\\site-packages (from aiohttp<4.0.0,>=3.8.3->langchain==0.1.0->crewai[tools]) (0.3.2)\n",
      "Requirement already satisfied: yarl<2.0,>=1.17.0 in c:\\users\\sanna\\miniconda3\\envs\\jupyter_env\\lib\\site-packages (from aiohttp<4.0.0,>=3.8.3->langchain==0.1.0->crewai[tools]) (1.20.1)\n",
      "Requirement already satisfied: marshmallow<4.0.0,>=3.18.0 in c:\\users\\sanna\\miniconda3\\envs\\jupyter_env\\lib\\site-packages (from dataclasses-json<0.7,>=0.5.7->langchain==0.1.0->crewai[tools]) (3.26.1)\n",
      "Requirement already satisfied: typing-inspect<1,>=0.4.0 in c:\\users\\sanna\\miniconda3\\envs\\jupyter_env\\lib\\site-packages (from dataclasses-json<0.7,>=0.5.7->langchain==0.1.0->crewai[tools]) (0.9.0)\n",
      "Requirement already satisfied: anyio<5,>=3 in c:\\users\\sanna\\miniconda3\\envs\\jupyter_env\\lib\\site-packages (from langchain-core<0.2,>=0.1.7->langchain==0.1.0->crewai[tools]) (4.6.2)\n",
      "Requirement already satisfied: packaging<24.0,>=23.2 in c:\\users\\sanna\\miniconda3\\envs\\jupyter_env\\lib\\site-packages (from langchain-core<0.2,>=0.1.7->langchain==0.1.0->crewai[tools]) (23.2)\n",
      "Requirement already satisfied: distro<2,>=1.7.0 in c:\\users\\sanna\\miniconda3\\envs\\jupyter_env\\lib\\site-packages (from openai<2.0.0,>=1.7.1->crewai[tools]) (1.9.0)\n",
      "Requirement already satisfied: httpx<1,>=0.23.0 in c:\\users\\sanna\\miniconda3\\envs\\jupyter_env\\lib\\site-packages (from openai<2.0.0,>=1.7.1->crewai[tools]) (0.27.0)\n",
      "Requirement already satisfied: jiter<1,>=0.4.0 in c:\\users\\sanna\\miniconda3\\envs\\jupyter_env\\lib\\site-packages (from openai<2.0.0,>=1.7.1->crewai[tools]) (0.10.0)\n",
      "Requirement already satisfied: sniffio in c:\\users\\sanna\\miniconda3\\envs\\jupyter_env\\lib\\site-packages (from openai<2.0.0,>=1.7.1->crewai[tools]) (1.3.0)\n",
      "Requirement already satisfied: tqdm>4 in c:\\users\\sanna\\miniconda3\\envs\\jupyter_env\\lib\\site-packages (from openai<2.0.0,>=1.7.1->crewai[tools]) (4.67.1)\n",
      "Requirement already satisfied: typing-extensions<5,>=4.11 in c:\\users\\sanna\\miniconda3\\envs\\jupyter_env\\lib\\site-packages (from openai<2.0.0,>=1.7.1->crewai[tools]) (4.12.2)\n",
      "Requirement already satisfied: annotated-types>=0.6.0 in c:\\users\\sanna\\miniconda3\\envs\\jupyter_env\\lib\\site-packages (from pydantic<3.0.0,>=2.4.2->crewai[tools]) (0.7.0)\n",
      "Requirement already satisfied: pydantic-core==2.33.2 in c:\\users\\sanna\\miniconda3\\envs\\jupyter_env\\lib\\site-packages (from pydantic<3.0.0,>=2.4.2->crewai[tools]) (2.33.2)\n",
      "Requirement already satisfied: typing-inspection>=0.4.0 in c:\\users\\sanna\\miniconda3\\envs\\jupyter_env\\lib\\site-packages (from pydantic<3.0.0,>=2.4.2->crewai[tools]) (0.4.1)\n",
      "Requirement already satisfied: charset-normalizer<4,>=2 in c:\\users\\sanna\\miniconda3\\envs\\jupyter_env\\lib\\site-packages (from requests<3,>=2->langchain==0.1.0->crewai[tools]) (3.3.2)\n",
      "Requirement already satisfied: idna<4,>=2.5 in c:\\users\\sanna\\miniconda3\\envs\\jupyter_env\\lib\\site-packages (from requests<3,>=2->langchain==0.1.0->crewai[tools]) (3.7)\n",
      "Requirement already satisfied: urllib3<3,>=1.21.1 in c:\\users\\sanna\\miniconda3\\envs\\jupyter_env\\lib\\site-packages (from requests<3,>=2->langchain==0.1.0->crewai[tools]) (2.3.0)\n",
      "Requirement already satisfied: certifi>=2017.4.17 in c:\\users\\sanna\\miniconda3\\envs\\jupyter_env\\lib\\site-packages (from requests<3,>=2->langchain==0.1.0->crewai[tools]) (2025.1.31)\n",
      "Requirement already satisfied: greenlet>=1 in c:\\users\\sanna\\miniconda3\\envs\\jupyter_env\\lib\\site-packages (from SQLAlchemy<3,>=1.4->langchain==0.1.0->crewai[tools]) (3.2.4)\n",
      "Requirement already satisfied: regex>=2022.1.18 in c:\\users\\sanna\\miniconda3\\envs\\jupyter_env\\lib\\site-packages (from tiktoken<0.6.0,>=0.5.2->langchain_openai) (2025.7.34)\n",
      "Requirement already satisfied: exceptiongroup>=1.0.2 in c:\\users\\sanna\\miniconda3\\envs\\jupyter_env\\lib\\site-packages (from anyio<5,>=3->langchain-core<0.2,>=0.1.7->langchain==0.1.0->crewai[tools]) (1.2.0)\n",
      "Requirement already satisfied: httpcore==1.* in c:\\users\\sanna\\miniconda3\\envs\\jupyter_env\\lib\\site-packages (from httpx<1,>=0.23.0->openai<2.0.0,>=1.7.1->crewai[tools]) (1.0.2)\n",
      "Requirement already satisfied: h11<0.15,>=0.13 in c:\\users\\sanna\\miniconda3\\envs\\jupyter_env\\lib\\site-packages (from httpcore==1.*->httpx<1,>=0.23.0->openai<2.0.0,>=1.7.1->crewai[tools]) (0.14.0)\n",
      "Requirement already satisfied: jsonpointer>=1.9 in c:\\users\\sanna\\miniconda3\\envs\\jupyter_env\\lib\\site-packages (from jsonpatch<2.0,>=1.33->langchain==0.1.0->crewai[tools]) (3.0.0)\n",
      "Requirement already satisfied: colorama in c:\\users\\sanna\\miniconda3\\envs\\jupyter_env\\lib\\site-packages (from tqdm>4->openai<2.0.0,>=1.7.1->crewai[tools]) (0.4.6)\n",
      "Requirement already satisfied: mypy-extensions>=0.3.0 in c:\\users\\sanna\\miniconda3\\envs\\jupyter_env\\lib\\site-packages (from typing-inspect<1,>=0.4.0->dataclasses-json<0.7,>=0.5.7->langchain==0.1.0->crewai[tools]) (1.1.0)\n",
      "Note: you may need to restart the kernel to use updated packages.\n"
     ]
    },
    {
     "name": "stderr",
     "output_type": "stream",
     "text": [
      "WARNING: crewai 0.5.0 does not provide the extra 'tools'\n"
     ]
    }
   ],
   "source": [
    "pip install \"crewai[tools]\" langchain_openai langchain_community"
   ]
  },
  {
   "cell_type": "code",
   "execution_count": 7,
   "id": "f9841382-a733-45d2-b0e4-110d57050325",
   "metadata": {},
   "outputs": [
    {
     "ename": "TypeError",
     "evalue": "unsupported operand type(s) for |: 'type' and 'NoneType'",
     "output_type": "error",
     "traceback": [
      "\u001b[1;31m---------------------------------------------------------------------------\u001b[0m",
      "\u001b[1;31mTypeError\u001b[0m                                 Traceback (most recent call last)",
      "Cell \u001b[1;32mIn[7], line 1\u001b[0m\n\u001b[1;32m----> 1\u001b[0m \u001b[38;5;28;01mfrom\u001b[39;00m \u001b[38;5;21;01mcrewai\u001b[39;00m\u001b[38;5;21;01m.\u001b[39;00m\u001b[38;5;21;01mtools\u001b[39;00m \u001b[38;5;28;01mimport\u001b[39;00m SerperDevTool\n\u001b[0;32m      3\u001b[0m search_tool \u001b[38;5;241m=\u001b[39m SerperDevTool()\n",
      "File \u001b[1;32m~\\miniconda3\\envs\\jupyter_env\\lib\\site-packages\\crewai\\__init__.py:1\u001b[0m\n\u001b[1;32m----> 1\u001b[0m \u001b[38;5;28;01mfrom\u001b[39;00m \u001b[38;5;21;01mcrewai\u001b[39;00m\u001b[38;5;21;01m.\u001b[39;00m\u001b[38;5;21;01magent\u001b[39;00m \u001b[38;5;28;01mimport\u001b[39;00m Agent\n\u001b[0;32m      2\u001b[0m \u001b[38;5;28;01mfrom\u001b[39;00m \u001b[38;5;21;01mcrewai\u001b[39;00m\u001b[38;5;21;01m.\u001b[39;00m\u001b[38;5;21;01mcrew\u001b[39;00m \u001b[38;5;28;01mimport\u001b[39;00m Crew\n\u001b[0;32m      3\u001b[0m \u001b[38;5;28;01mfrom\u001b[39;00m \u001b[38;5;21;01mcrewai\u001b[39;00m\u001b[38;5;21;01m.\u001b[39;00m\u001b[38;5;21;01mprocess\u001b[39;00m \u001b[38;5;28;01mimport\u001b[39;00m Process\n",
      "File \u001b[1;32m~\\miniconda3\\envs\\jupyter_env\\lib\\site-packages\\crewai\\agent.py:22\u001b[0m\n\u001b[0;32m     10\u001b[0m \u001b[38;5;28;01mfrom\u001b[39;00m \u001b[38;5;21;01mpydantic\u001b[39;00m \u001b[38;5;28;01mimport\u001b[39;00m (\n\u001b[0;32m     11\u001b[0m     UUID4,\n\u001b[0;32m     12\u001b[0m     BaseModel,\n\u001b[1;32m   (...)\u001b[0m\n\u001b[0;32m     18\u001b[0m     model_validator,\n\u001b[0;32m     19\u001b[0m )\n\u001b[0;32m     20\u001b[0m \u001b[38;5;28;01mfrom\u001b[39;00m \u001b[38;5;21;01mpydantic_core\u001b[39;00m \u001b[38;5;28;01mimport\u001b[39;00m PydanticCustomError\n\u001b[1;32m---> 22\u001b[0m \u001b[38;5;28;01mfrom\u001b[39;00m \u001b[38;5;21;01mcrewai\u001b[39;00m\u001b[38;5;21;01m.\u001b[39;00m\u001b[38;5;21;01magents\u001b[39;00m \u001b[38;5;28;01mimport\u001b[39;00m (\n\u001b[0;32m     23\u001b[0m     CacheHandler,\n\u001b[0;32m     24\u001b[0m     CrewAgentExecutor,\n\u001b[0;32m     25\u001b[0m     CrewAgentOutputParser,\n\u001b[0;32m     26\u001b[0m     ToolsHandler,\n\u001b[0;32m     27\u001b[0m )\n\u001b[0;32m     28\u001b[0m \u001b[38;5;28;01mfrom\u001b[39;00m \u001b[38;5;21;01mcrewai\u001b[39;00m\u001b[38;5;21;01m.\u001b[39;00m\u001b[38;5;21;01mutilities\u001b[39;00m \u001b[38;5;28;01mimport\u001b[39;00m I18N, Logger, Prompts, RPMController\n\u001b[0;32m     31\u001b[0m \u001b[38;5;28;01mclass\u001b[39;00m \u001b[38;5;21;01mAgent\u001b[39;00m(BaseModel):\n",
      "File \u001b[1;32m~\\miniconda3\\envs\\jupyter_env\\lib\\site-packages\\crewai\\agents\\__init__.py:2\u001b[0m\n\u001b[0;32m      1\u001b[0m \u001b[38;5;28;01mfrom\u001b[39;00m \u001b[38;5;21;01m.\u001b[39;00m\u001b[38;5;21;01mcache\u001b[39;00m\u001b[38;5;21;01m.\u001b[39;00m\u001b[38;5;21;01mcache_handler\u001b[39;00m \u001b[38;5;28;01mimport\u001b[39;00m CacheHandler\n\u001b[1;32m----> 2\u001b[0m \u001b[38;5;28;01mfrom\u001b[39;00m \u001b[38;5;21;01m.\u001b[39;00m\u001b[38;5;21;01mexecutor\u001b[39;00m \u001b[38;5;28;01mimport\u001b[39;00m CrewAgentExecutor\n\u001b[0;32m      3\u001b[0m \u001b[38;5;28;01mfrom\u001b[39;00m \u001b[38;5;21;01m.\u001b[39;00m\u001b[38;5;21;01moutput_parser\u001b[39;00m \u001b[38;5;28;01mimport\u001b[39;00m CrewAgentOutputParser\n\u001b[0;32m      4\u001b[0m \u001b[38;5;28;01mfrom\u001b[39;00m \u001b[38;5;21;01m.\u001b[39;00m\u001b[38;5;21;01mtools_handler\u001b[39;00m \u001b[38;5;28;01mimport\u001b[39;00m ToolsHandler\n",
      "File \u001b[1;32m~\\miniconda3\\envs\\jupyter_env\\lib\\site-packages\\crewai\\agents\\executor.py:16\u001b[0m\n\u001b[0;32m     14\u001b[0m \u001b[38;5;28;01mfrom\u001b[39;00m \u001b[38;5;21;01mcrewai\u001b[39;00m\u001b[38;5;21;01m.\u001b[39;00m\u001b[38;5;21;01magents\u001b[39;00m\u001b[38;5;21;01m.\u001b[39;00m\u001b[38;5;21;01mcache\u001b[39;00m\u001b[38;5;21;01m.\u001b[39;00m\u001b[38;5;21;01mcache_hit\u001b[39;00m \u001b[38;5;28;01mimport\u001b[39;00m CacheHit\n\u001b[0;32m     15\u001b[0m \u001b[38;5;28;01mfrom\u001b[39;00m \u001b[38;5;21;01mcrewai\u001b[39;00m\u001b[38;5;21;01m.\u001b[39;00m\u001b[38;5;21;01mtools\u001b[39;00m\u001b[38;5;21;01m.\u001b[39;00m\u001b[38;5;21;01mcache_tools\u001b[39;00m \u001b[38;5;28;01mimport\u001b[39;00m CacheTools\n\u001b[1;32m---> 16\u001b[0m \u001b[38;5;28;01mfrom\u001b[39;00m \u001b[38;5;21;01mcrewai\u001b[39;00m\u001b[38;5;21;01m.\u001b[39;00m\u001b[38;5;21;01mutilities\u001b[39;00m \u001b[38;5;28;01mimport\u001b[39;00m I18N\n\u001b[0;32m     19\u001b[0m \u001b[38;5;28;01mclass\u001b[39;00m \u001b[38;5;21;01mCrewAgentExecutor\u001b[39;00m(AgentExecutor):\n\u001b[0;32m     20\u001b[0m     i18n: I18N \u001b[38;5;241m=\u001b[39m I18N()\n",
      "File \u001b[1;32m~\\miniconda3\\envs\\jupyter_env\\lib\\site-packages\\crewai\\utilities\\__init__.py:4\u001b[0m\n\u001b[0;32m      2\u001b[0m \u001b[38;5;28;01mfrom\u001b[39;00m \u001b[38;5;21;01m.\u001b[39;00m\u001b[38;5;21;01mlogger\u001b[39;00m \u001b[38;5;28;01mimport\u001b[39;00m Logger\n\u001b[0;32m      3\u001b[0m \u001b[38;5;28;01mfrom\u001b[39;00m \u001b[38;5;21;01m.\u001b[39;00m\u001b[38;5;21;01mprompts\u001b[39;00m \u001b[38;5;28;01mimport\u001b[39;00m Prompts\n\u001b[1;32m----> 4\u001b[0m \u001b[38;5;28;01mfrom\u001b[39;00m \u001b[38;5;21;01m.\u001b[39;00m\u001b[38;5;21;01mrpm_controller\u001b[39;00m \u001b[38;5;28;01mimport\u001b[39;00m RPMController\n",
      "File \u001b[1;32m~\\miniconda3\\envs\\jupyter_env\\lib\\site-packages\\crewai\\utilities\\rpm_controller.py:10\u001b[0m\n\u001b[0;32m      5\u001b[0m \u001b[38;5;28;01mfrom\u001b[39;00m \u001b[38;5;21;01mpydantic\u001b[39;00m \u001b[38;5;28;01mimport\u001b[39;00m BaseModel, ConfigDict, Field, PrivateAttr, model_validator\n\u001b[0;32m      7\u001b[0m \u001b[38;5;28;01mfrom\u001b[39;00m \u001b[38;5;21;01mcrewai\u001b[39;00m\u001b[38;5;21;01m.\u001b[39;00m\u001b[38;5;21;01mutilities\u001b[39;00m\u001b[38;5;21;01m.\u001b[39;00m\u001b[38;5;21;01mlogger\u001b[39;00m \u001b[38;5;28;01mimport\u001b[39;00m Logger\n\u001b[1;32m---> 10\u001b[0m \u001b[38;5;28;01mclass\u001b[39;00m \u001b[38;5;21;01mRPMController\u001b[39;00m(BaseModel):\n\u001b[0;32m     11\u001b[0m     model_config \u001b[38;5;241m=\u001b[39m ConfigDict(arbitrary_types_allowed\u001b[38;5;241m=\u001b[39m\u001b[38;5;28;01mTrue\u001b[39;00m)\n\u001b[0;32m     12\u001b[0m     max_rpm: Union[\u001b[38;5;28mint\u001b[39m, \u001b[38;5;28;01mNone\u001b[39;00m] \u001b[38;5;241m=\u001b[39m Field(default\u001b[38;5;241m=\u001b[39m\u001b[38;5;28;01mNone\u001b[39;00m)\n",
      "File \u001b[1;32m~\\miniconda3\\envs\\jupyter_env\\lib\\site-packages\\crewai\\utilities\\rpm_controller.py:15\u001b[0m, in \u001b[0;36mRPMController\u001b[1;34m()\u001b[0m\n\u001b[0;32m     13\u001b[0m logger: Logger \u001b[38;5;241m=\u001b[39m Field(default\u001b[38;5;241m=\u001b[39m\u001b[38;5;28;01mNone\u001b[39;00m)\n\u001b[0;32m     14\u001b[0m _current_rpm: \u001b[38;5;28mint\u001b[39m \u001b[38;5;241m=\u001b[39m PrivateAttr(default\u001b[38;5;241m=\u001b[39m\u001b[38;5;241m0\u001b[39m)\n\u001b[1;32m---> 15\u001b[0m _timer: \u001b[43mthreading\u001b[49m\u001b[38;5;241;43m.\u001b[39;49m\u001b[43mTimer\u001b[49m\u001b[43m \u001b[49m\u001b[38;5;241;43m|\u001b[39;49m\u001b[43m \u001b[49m\u001b[38;5;28;43;01mNone\u001b[39;49;00m \u001b[38;5;241m=\u001b[39m PrivateAttr(default\u001b[38;5;241m=\u001b[39m\u001b[38;5;28;01mNone\u001b[39;00m)\n\u001b[0;32m     16\u001b[0m _lock: threading\u001b[38;5;241m.\u001b[39mLock \u001b[38;5;241m=\u001b[39m PrivateAttr(default\u001b[38;5;241m=\u001b[39m\u001b[38;5;28;01mNone\u001b[39;00m)\n\u001b[0;32m     18\u001b[0m \u001b[38;5;129m@model_validator\u001b[39m(mode\u001b[38;5;241m=\u001b[39m\u001b[38;5;124m\"\u001b[39m\u001b[38;5;124mafter\u001b[39m\u001b[38;5;124m\"\u001b[39m)\n\u001b[0;32m     19\u001b[0m \u001b[38;5;28;01mdef\u001b[39;00m \u001b[38;5;21mreset_counter\u001b[39m(\u001b[38;5;28mself\u001b[39m):\n",
      "\u001b[1;31mTypeError\u001b[0m: unsupported operand type(s) for |: 'type' and 'NoneType'"
     ]
    }
   ],
   "source": [
    "from crewai.tools import SerperDevTool\n",
    "\n",
    "search_tool = SerperDevTool()"
   ]
  },
  {
   "cell_type": "code",
   "execution_count": 8,
   "id": "256d4466-ebe2-4927-8e8d-9422d9939e78",
   "metadata": {},
   "outputs": [
    {
     "name": "stdout",
     "output_type": "stream",
     "text": [
      "Python 3.9.21\n"
     ]
    }
   ],
   "source": [
    "!python --version"
   ]
  },
  {
   "cell_type": "code",
   "execution_count": null,
   "id": "51f0ac40-31b9-4f58-8ff3-424661b9c8fc",
   "metadata": {},
   "outputs": [],
   "source": []
  }
 ],
 "metadata": {
  "kernelspec": {
   "display_name": "Python 3 (ipykernel)",
   "language": "python",
   "name": "python3"
  },
  "language_info": {
   "codemirror_mode": {
    "name": "ipython",
    "version": 3
   },
   "file_extension": ".py",
   "mimetype": "text/x-python",
   "name": "python",
   "nbconvert_exporter": "python",
   "pygments_lexer": "ipython3",
   "version": "3.9.21"
  }
 },
 "nbformat": 4,
 "nbformat_minor": 5
}
